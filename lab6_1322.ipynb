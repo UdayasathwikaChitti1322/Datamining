{
  "nbformat": 4,
  "nbformat_minor": 0,
  "metadata": {
    "colab": {
      "provenance": [],
      "authorship_tag": "ABX9TyPPU/NeCPuRRCCU6x67dcRE",
      "include_colab_link": true
    },
    "kernelspec": {
      "name": "python3",
      "display_name": "Python 3"
    },
    "language_info": {
      "name": "python"
    }
  },
  "cells": [
    {
      "cell_type": "markdown",
      "metadata": {
        "id": "view-in-github",
        "colab_type": "text"
      },
      "source": [
        "<a href=\"https://colab.research.google.com/github/UdayasathwikaChitti1322/Datamining/blob/main/lab6_1322.ipynb\" target=\"_parent\"><img src=\"https://colab.research.google.com/assets/colab-badge.svg\" alt=\"Open In Colab\"/></a>"
      ]
    },
    {
      "cell_type": "code",
      "execution_count": 4,
      "metadata": {
        "id": "TXaTAfqLykKb",
        "colab": {
          "base_uri": "https://localhost:8080/"
        },
        "outputId": "79e100ec-b794-4427-b2fd-b5976c0306ab"
      },
      "outputs": [
        {
          "output_type": "stream",
          "name": "stdout",
          "text": [
            "  Category  Label_Encoded  Category_A  Category_B  Category_C\n",
            "0        A              0        True       False       False\n",
            "1        B              1       False        True       False\n",
            "2        C              2       False       False        True\n",
            "3        A              0        True       False       False\n",
            "4        B              1       False        True       False\n"
          ]
        }
      ],
      "source": [
        "import pandas as pd\n",
        "from sklearn.preprocessing import LabelEncoder, OneHotEncoder\n",
        "# Example data\n",
        "data={'Category':['A','B','C','A','B']}\n",
        "df=pd.DataFrame(data)\n",
        "# Label Encoding\n",
        "label_encoder=LabelEncoder()\n",
        "df['Label_Encoded']=label_encoder.fit_transform(df['Category'])\n",
        "# One-hot Encoding\n",
        "one_hot_encoded=pd.get_dummies(df['Category'],prefix='Category')\n",
        "df=pd.concat([df, one_hot_encoded],axis=1)\n",
        "print(df)"
      ]
    },
    {
      "cell_type": "code",
      "source": [
        "from datetime import datetime\n",
        "# Example data\n",
        "data={'Name':['Alice','Bob'],'Date_of_Birth':['1990-05-14','1985-08-23']}\n",
        "df=pd.DataFrame(data)\n",
        "# Convert Date_of_Birth to datetime\n",
        "df['Date_of_Birth']=pd.to_datetime(df['Date_of_Birth'])\n",
        "# Calculate Age\n",
        "current_year=datetime.now().year\n",
        "df['Age']=current_year-df['Date_of_Birth'].dt.year\n",
        "print(df)"
      ],
      "metadata": {
        "colab": {
          "base_uri": "https://localhost:8080/"
        },
        "id": "v5SSgwqxt3rb",
        "outputId": "dfa7234e-b6c4-4d3a-b682-d0634aea85e7"
      },
      "execution_count": 5,
      "outputs": [
        {
          "output_type": "stream",
          "name": "stdout",
          "text": [
            "    Name Date_of_Birth  Age\n",
            "0  Alice    1990-05-14   35\n",
            "1    Bob    1985-08-23   40\n"
          ]
        }
      ]
    },
    {
      "cell_type": "code",
      "source": [
        "# Example data\n",
        "data={'Category':['A','A','B','B','C'],'Value': [10, 20, 10, 30, 40]}\n",
        "df=pd.DataFrame(data)\n",
        "# Group by and aggregate\n",
        "grouped=df.groupby('Category').agg({'Value':['sum','mean']})\n",
        "print(\"Grouped Data:\\n\",grouped)\n",
        "# Pivot table\n",
        "pivot=df.pivot_table(index='Category',values='Value',aggfunc=['sum','mean'])\n",
        "print(\"\\nPivot Table:\\n\",pivot)"
      ],
      "metadata": {
        "colab": {
          "base_uri": "https://localhost:8080/"
        },
        "id": "xUnXf_Jnt3ol",
        "outputId": "66444d42-30dd-4347-8515-6f295ed1d8aa"
      },
      "execution_count": 6,
      "outputs": [
        {
          "output_type": "stream",
          "name": "stdout",
          "text": [
            "Grouped Data:\n",
            "          Value      \n",
            "           sum  mean\n",
            "Category            \n",
            "A           30  15.0\n",
            "B           40  20.0\n",
            "C           40  40.0\n",
            "\n",
            "Pivot Table:\n",
            "            sum  mean\n",
            "         Value Value\n",
            "Category            \n",
            "A           30  15.0\n",
            "B           40  20.0\n",
            "C           40  40.0\n"
          ]
        }
      ]
    }
  ]
}